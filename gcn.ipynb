{
 "cells": [
  {
   "cell_type": "code",
   "execution_count": 81,
   "metadata": {},
   "outputs": [],
   "source": [
    "import numpy as np\n",
    "from base_notebook.pose_data_tools.graph import Graph\n",
    "from base_notebook.pose_data_tools.generate_data import read_xyz\n",
    "from src.preprocessing.pre_normaliser import preNormaliser\n",
    "import matplotlib.pyplot as plt\n",
    "from matplotlib import animation, rc\n",
    "from IPython.display import HTML\n",
    "import os\n",
    "import pandas as pd\n",
    "import pickle\n",
    "import iisignature\n",
    "from tqdm import tqdm"
   ]
  },
  {
   "cell_type": "code",
   "execution_count": 3,
   "metadata": {},
   "outputs": [],
   "source": [
    "AXES = 0, 2"
   ]
  },
  {
   "cell_type": "code",
   "execution_count": 4,
   "metadata": {},
   "outputs": [],
   "source": [
    "data = np.load(open(\"_input/train_data.npy\", 'rb'))"
   ]
  },
  {
   "cell_type": "code",
   "execution_count": 5,
   "metadata": {},
   "outputs": [],
   "source": [
    "labels = pd.read_csv('_input/train_label.csv')\n",
    "idx = labels[labels['label'].isin([0, 75])].index"
   ]
  },
  {
   "cell_type": "code",
   "execution_count": 6,
   "metadata": {},
   "outputs": [],
   "source": [
    "N_SAMPLES = 100\n",
    "N_CLASSES = 100\n",
    "NOISE = 10.\n",
    "\n",
    "ps = np.zeros((0, 3, 1, 17, 2))\n",
    "\n",
    "for i in range(N_CLASSES):\n",
    "    p1 = data[100*i:100*i+1, :, :1, :, :]\n",
    "    zs = NOISE * np.random.standard_normal((N_SAMPLES, 3, 1, 17, 2)) + p1\n",
    "    ps = np.concatenate([ps, zs], axis=0)\n",
    "\n",
    "X = ps\n",
    "y = np.arange(N_CLASSES).repeat(N_SAMPLES)"
   ]
  },
  {
   "cell_type": "code",
   "execution_count": 7,
   "metadata": {},
   "outputs": [],
   "source": [
    "idx = np.arange(N_SAMPLES*N_CLASSES)\n",
    "np.random.shuffle(idx)\n",
    "X = X[idx]\n",
    "y = y[idx].reshape((-1, 1))"
   ]
  },
  {
   "cell_type": "code",
   "execution_count": 8,
   "metadata": {},
   "outputs": [],
   "source": [
    "from keras.layers import Layer, Dense\n",
    "import tensorflow as tf\n",
    "from tensorflow.python.framework import tensor_shape\n",
    "from tensorflow.python.ops import gen_math_ops\n",
    "from tensorflow.python.ops import special_math_ops\n",
    "\n",
    "graph = Graph()\n",
    "mat = graph.get_adjacency_matrix().astype(np.float32)\n",
    "\n",
    "class GraphAttention(Layer):\n",
    "    \n",
    "    def build(self, input_shape):\n",
    "        output_shape = 50\n",
    "        self.kernel = self.add_weight('kernel', (input_shape[3], input_shape[4], output_shape), trainable=True)\n",
    "        self.attention_mask = self.add_weight('attention_mask', mat[0].shape, trainable=True)\n",
    "        \n",
    "    def call(self, inputs):\n",
    "        f0 = tf.einsum('ijklm,lmn->ikln', inputs, self.kernel)\n",
    "        att = gen_math_ops.Mul(x=mat[0]+mat[1]+mat[2], y=self.attention_mask)\n",
    "        att = tf.nn.softmax(att)\n",
    "        return tf.einsum('ml,ikln->ikn', att, f0)"
   ]
  },
  {
   "cell_type": "code",
   "execution_count": 169,
   "metadata": {},
   "outputs": [
    {
     "data": {
      "text/plain": [
       "<matplotlib.image.AxesImage at 0x144290df0>"
      ]
     },
     "execution_count": 169,
     "metadata": {},
     "output_type": "execute_result"
    },
    {
     "data": {
      "image/png": "[encoded data removed]",
      "text/plain": [
       "<Figure size 432x288 with 1 Axes>"
      ]
     },
     "metadata": {
      "image/png": {
       "height": 248,
       "width": 251
      },
      "needs_background": "light"
     },
     "output_type": "display_data"
    }
   ],
   "source": [
    "plt.imshow(mat[1] + mat[2])"
   ]
  },
  {
   "cell_type": "code",
   "execution_count": 161,
   "metadata": {},
   "outputs": [
    {
     "data": {
      "text/plain": [
       "\u001b[0;31mSignature:\u001b[0m\n",
       "\u001b[0mK\u001b[0m\u001b[0;34m.\u001b[0m\u001b[0mconv2d\u001b[0m\u001b[0;34m(\u001b[0m\u001b[0;34m\u001b[0m\n",
       "\u001b[0;34m\u001b[0m    \u001b[0mx\u001b[0m\u001b[0;34m,\u001b[0m\u001b[0;34m\u001b[0m\n",
       "\u001b[0;34m\u001b[0m    \u001b[0mkernel\u001b[0m\u001b[0;34m,\u001b[0m\u001b[0;34m\u001b[0m\n",
       "\u001b[0;34m\u001b[0m    \u001b[0mstrides\u001b[0m\u001b[0;34m=\u001b[0m\u001b[0;34m(\u001b[0m\u001b[0;36m1\u001b[0m\u001b[0;34m,\u001b[0m \u001b[0;36m1\u001b[0m\u001b[0;34m)\u001b[0m\u001b[0;34m,\u001b[0m\u001b[0;34m\u001b[0m\n",
       "\u001b[0;34m\u001b[0m    \u001b[0mpadding\u001b[0m\u001b[0;34m=\u001b[0m\u001b[0;34m'valid'\u001b[0m\u001b[0;34m,\u001b[0m\u001b[0;34m\u001b[0m\n",
       "\u001b[0;34m\u001b[0m    \u001b[0mdata_format\u001b[0m\u001b[0;34m=\u001b[0m\u001b[0;32mNone\u001b[0m\u001b[0;34m,\u001b[0m\u001b[0;34m\u001b[0m\n",
       "\u001b[0;34m\u001b[0m    \u001b[0mdilation_rate\u001b[0m\u001b[0;34m=\u001b[0m\u001b[0;34m(\u001b[0m\u001b[0;36m1\u001b[0m\u001b[0;34m,\u001b[0m \u001b[0;36m1\u001b[0m\u001b[0;34m)\u001b[0m\u001b[0;34m,\u001b[0m\u001b[0;34m\u001b[0m\n",
       "\u001b[0;34m\u001b[0m\u001b[0;34m)\u001b[0m\u001b[0;34m\u001b[0m\u001b[0;34m\u001b[0m\u001b[0m\n",
       "\u001b[0;31mDocstring:\u001b[0m\n",
       "2D convolution.\n",
       "\n",
       "Args:\n",
       "    x: Tensor or variable.\n",
       "    kernel: kernel tensor.\n",
       "    strides: strides tuple.\n",
       "    padding: string, `\"same\"` or `\"valid\"`.\n",
       "    data_format: `\"channels_last\"` or `\"channels_first\"`.\n",
       "    dilation_rate: tuple of 2 integers.\n",
       "\n",
       "Returns:\n",
       "    A tensor, result of 2D convolution.\n",
       "\n",
       "Raises:\n",
       "    ValueError: if `data_format` is neither `channels_last` or\n",
       "    `channels_first`.\n",
       "\u001b[0;31mFile:\u001b[0m      /usr/local/lib/python3.9/site-packages/keras/backend.py\n",
       "\u001b[0;31mType:\u001b[0m      function\n"
      ]
     },
     "metadata": {},
     "output_type": "display_data"
    }
   ],
   "source": [
    "K.conv2d?"
   ]
  },
  {
   "cell_type": "code",
   "execution_count": 158,
   "metadata": {},
   "outputs": [
    {
     "data": {
      "text/plain": [
       "TensorShape([1, 10, 10, 3])"
      ]
     },
     "execution_count": 158,
     "metadata": {},
     "output_type": "execute_result"
    }
   ],
   "source": [
    "image = tf.zeros([10,10,3])\n",
    "tf.expand_dims(image, axis=0).shape"
   ]
  },
  {
   "cell_type": "code",
   "execution_count": 98,
   "metadata": {},
   "outputs": [],
   "source": [
    "from keras.layers import Layer, Dense\n",
    "import tensorflow as tf\n",
    "from tensorflow.python.framework import tensor_shape\n",
    "\n",
    "graph = Graph()\n",
    "mat = graph.get_adjacency_matrix().astype(np.float32)\n",
    "\n",
    "class GraphAttention(Layer):\n",
    "    \n",
    "    def build(self, input_shape):\n",
    "        hidden_units = 20\n",
    "        self.kernel = self.add_weight('kernel', (input_shape[3], input_shape[4], hidden_units), trainable=True)\n",
    "        self.attention_mask = self.add_weight('attention_mask', mat[0].shape, trainable=True)\n",
    "        \n",
    "    def call(self, inputs):\n",
    "        f0 = tf.einsum('ijklm,lmn->ikln', inputs, self.kernel)\n",
    "        att = tf.einsum('ij,jk', mat[0]+mat[1]+mat[2], self.attention_mask)\n",
    "        att = tf.nn.softmax(att)\n",
    "        return tf.einsum('ml,ijklo,lon->ikn', att, inputs, self.kernel)\n"
   ]
  },
  {
   "cell_type": "code",
   "execution_count": 99,
   "metadata": {},
   "outputs": [
    {
     "name": "stdout",
     "output_type": "stream",
     "text": [
      "Model: \"model_35\"\n",
      "_________________________________________________________________\n",
      "Layer (type)                 Output Shape              Param #   \n",
      "=================================================================\n",
      "input_44 (InputLayer)        [(None, 3, 601, 17, 2)]   0         \n",
      "_________________________________________________________________\n",
      "graph_attention_55 (GraphAtt (None, 601, 20)           969       \n",
      "_________________________________________________________________\n",
      "lambda_41 (Lambda)           (None, 4, 210)            0         \n",
      "_________________________________________________________________\n",
      "batch_normalization_22 (Batc (None, 4, 210)            840       \n",
      "_________________________________________________________________\n",
      "lstm_35 (LSTM)               (None, 4, 64)             70400     \n",
      "_________________________________________________________________\n",
      "dropout_34 (Dropout)         (None, 4, 64)             0         \n",
      "_________________________________________________________________\n",
      "flatten_44 (Flatten)         (None, 256)               0         \n",
      "_________________________________________________________________\n",
      "dense_47 (Dense)             (None, 155)               39835     \n",
      "=================================================================\n",
      "Total params: 112,044\n",
      "Trainable params: 111,624\n",
      "Non-trainable params: 420\n",
      "_________________________________________________________________\n"
     ]
    }
   ],
   "source": [
    "model.summary()"
   ]
  },
  {
   "cell_type": "code",
   "execution_count": 119,
   "metadata": {},
   "outputs": [
    {
     "name": "stdout",
     "output_type": "stream",
     "text": [
      "Model: \"model_50\"\n",
      "_________________________________________________________________\n",
      "Layer (type)                 Output Shape              Param #   \n",
      "=================================================================\n",
      "input_61 (InputLayer)        [(None, 3, 1, 17, 2)]     0         \n",
      "_________________________________________________________________\n",
      "conv1d_2 (Conv1D)            (None, 3, 1, 17, 100)     300       \n",
      "_________________________________________________________________\n",
      "lambda_57 (Lambda)           (None, 4, 210)            0         \n",
      "_________________________________________________________________\n",
      "flatten_59 (Flatten)         (None, 840)               0         \n",
      "_________________________________________________________________\n",
      "dense_62 (Dense)             (None, 155)               130355    \n",
      "=================================================================\n",
      "Total params: 130,655\n",
      "Trainable params: 130,655\n",
      "Non-trainable params: 0\n",
      "_________________________________________________________________\n"
     ]
    }
   ],
   "source": [
    "model.summary()"
   ]
  },
  {
   "cell_type": "code",
   "execution_count": null,
   "metadata": {},
   "outputs": [],
   "source": [
    "logsiglen = iisignature.logsiglength(20, 2)\n",
    "\n",
    "N_TIMESTEPS = 100\n",
    "N_SEGMENTS = 24\n",
    "N_HIDDEN_GCN = 20\n",
    "\n",
    "input_layer = Input(shape=(3, N_TIMESTEPS, 17, 2))\n",
    "reshape_layer = Reshape()(input_layer)\n",
    "gcn_layer = Conv1D(20, 1)(reshape_layer)\n",
    "hidden_layer = Lambda(CLF, arguments=dict(number_of_segment=N_SEGMENTS, deg_of_logsig=2, logsiglen=logsiglen), output_shape=(N_SEGMENTS, logsiglen))(gcn_layer)\n",
    "BN_layer = BatchNormalization()(hidden_layer)\n",
    "flatten_layer = Flatten()(BN_layer)\n",
    "output_layer = Dense(155, activation='softmax')(flatten_layer)\n",
    "\n",
    "model = Model(inputs=input_layer, outputs=output_layer)\n",
    "model.compile(loss='categorical_crossentropy', optimizer='adam', metrics=['accuracy'])\n",
    "model.fit(X[:, :, :N_SAMPLES, :, :], to_categorical(y), epochs=20, verbose=2, validation_split=0.15)\n"
   ]
  },
  {
   "cell_type": "code",
   "execution_count": 140,
   "metadata": {},
   "outputs": [
    {
     "name": "stdout",
     "output_type": "stream",
     "text": [
      "Epoch 1/20\n"
     ]
    },
    {
     "ename": "KeyboardInterrupt",
     "evalue": "",
     "output_type": "error",
     "traceback": [
      "\u001b[0;31m---------------------------------------------------------------------------\u001b[0m",
      "\u001b[0;31mKeyboardInterrupt\u001b[0m                         Traceback (most recent call last)",
      "\u001b[0;32m<ipython-input-140-15eaaba70a0e>\u001b[0m in \u001b[0;36m<module>\u001b[0;34m\u001b[0m\n\u001b[1;32m     56\u001b[0m \u001b[0mmodel\u001b[0m \u001b[0;34m=\u001b[0m \u001b[0mModel\u001b[0m\u001b[0;34m(\u001b[0m\u001b[0minputs\u001b[0m\u001b[0;34m=\u001b[0m\u001b[0minput_layer\u001b[0m\u001b[0;34m,\u001b[0m \u001b[0moutputs\u001b[0m\u001b[0;34m=\u001b[0m\u001b[0moutput_layer\u001b[0m\u001b[0;34m)\u001b[0m\u001b[0;34m\u001b[0m\u001b[0;34m\u001b[0m\u001b[0m\n\u001b[1;32m     57\u001b[0m \u001b[0mmodel\u001b[0m\u001b[0;34m.\u001b[0m\u001b[0mcompile\u001b[0m\u001b[0;34m(\u001b[0m\u001b[0mloss\u001b[0m\u001b[0;34m=\u001b[0m\u001b[0;34m'categorical_crossentropy'\u001b[0m\u001b[0;34m,\u001b[0m \u001b[0moptimizer\u001b[0m\u001b[0;34m=\u001b[0m\u001b[0;34m'adam'\u001b[0m\u001b[0;34m,\u001b[0m \u001b[0mmetrics\u001b[0m\u001b[0;34m=\u001b[0m\u001b[0;34m[\u001b[0m\u001b[0;34m'accuracy'\u001b[0m\u001b[0;34m]\u001b[0m\u001b[0;34m)\u001b[0m\u001b[0;34m\u001b[0m\u001b[0;34m\u001b[0m\u001b[0m\n\u001b[0;32m---> 58\u001b[0;31m \u001b[0mmodel\u001b[0m\u001b[0;34m.\u001b[0m\u001b[0mfit\u001b[0m\u001b[0;34m(\u001b[0m\u001b[0mX\u001b[0m\u001b[0;34m,\u001b[0m \u001b[0mto_categorical\u001b[0m\u001b[0;34m(\u001b[0m\u001b[0my\u001b[0m\u001b[0;34m)\u001b[0m\u001b[0;34m,\u001b[0m \u001b[0mepochs\u001b[0m\u001b[0;34m=\u001b[0m\u001b[0;36m20\u001b[0m\u001b[0;34m,\u001b[0m \u001b[0mverbose\u001b[0m\u001b[0;34m=\u001b[0m\u001b[0;36m2\u001b[0m\u001b[0;34m,\u001b[0m \u001b[0mvalidation_split\u001b[0m\u001b[0;34m=\u001b[0m\u001b[0;36m0.15\u001b[0m\u001b[0;34m)\u001b[0m\u001b[0;34m\u001b[0m\u001b[0;34m\u001b[0m\u001b[0m\n\u001b[0m\u001b[1;32m     59\u001b[0m \u001b[0;34m\u001b[0m\u001b[0m\n\u001b[1;32m     60\u001b[0m \u001b[0;31m# cce = CategoricalCrossentropy()\u001b[0m\u001b[0;34m\u001b[0m\u001b[0;34m\u001b[0m\u001b[0;34m\u001b[0m\u001b[0m\n",
      "\u001b[0;32m/usr/local/lib/python3.9/site-packages/keras/engine/training.py\u001b[0m in \u001b[0;36mfit\u001b[0;34m(self, x, y, batch_size, epochs, verbose, callbacks, validation_split, validation_data, shuffle, class_weight, sample_weight, initial_epoch, steps_per_epoch, validation_steps, validation_batch_size, validation_freq, max_queue_size, workers, use_multiprocessing)\u001b[0m\n\u001b[1;32m   1156\u001b[0m                 _r=1):\n\u001b[1;32m   1157\u001b[0m               \u001b[0mcallbacks\u001b[0m\u001b[0;34m.\u001b[0m\u001b[0mon_train_batch_begin\u001b[0m\u001b[0;34m(\u001b[0m\u001b[0mstep\u001b[0m\u001b[0;34m)\u001b[0m\u001b[0;34m\u001b[0m\u001b[0;34m\u001b[0m\u001b[0m\n\u001b[0;32m-> 1158\u001b[0;31m               \u001b[0mtmp_logs\u001b[0m \u001b[0;34m=\u001b[0m \u001b[0mself\u001b[0m\u001b[0;34m.\u001b[0m\u001b[0mtrain_function\u001b[0m\u001b[0;34m(\u001b[0m\u001b[0miterator\u001b[0m\u001b[0;34m)\u001b[0m\u001b[0;34m\u001b[0m\u001b[0;34m\u001b[0m\u001b[0m\n\u001b[0m\u001b[1;32m   1159\u001b[0m               \u001b[0;32mif\u001b[0m \u001b[0mdata_handler\u001b[0m\u001b[0;34m.\u001b[0m\u001b[0mshould_sync\u001b[0m\u001b[0;34m:\u001b[0m\u001b[0;34m\u001b[0m\u001b[0;34m\u001b[0m\u001b[0m\n\u001b[1;32m   1160\u001b[0m                 \u001b[0mcontext\u001b[0m\u001b[0;34m.\u001b[0m\u001b[0masync_wait\u001b[0m\u001b[0;34m(\u001b[0m\u001b[0;34m)\u001b[0m\u001b[0;34m\u001b[0m\u001b[0;34m\u001b[0m\u001b[0m\n",
      "\u001b[0;32m/usr/local/lib/python3.9/site-packages/tensorflow/python/eager/def_function.py\u001b[0m in \u001b[0;36m__call__\u001b[0;34m(self, *args, **kwds)\u001b[0m\n\u001b[1;32m    887\u001b[0m \u001b[0;34m\u001b[0m\u001b[0m\n\u001b[1;32m    888\u001b[0m       \u001b[0;32mwith\u001b[0m \u001b[0mOptionalXlaContext\u001b[0m\u001b[0;34m(\u001b[0m\u001b[0mself\u001b[0m\u001b[0;34m.\u001b[0m\u001b[0m_jit_compile\u001b[0m\u001b[0;34m)\u001b[0m\u001b[0;34m:\u001b[0m\u001b[0;34m\u001b[0m\u001b[0;34m\u001b[0m\u001b[0m\n\u001b[0;32m--> 889\u001b[0;31m         \u001b[0mresult\u001b[0m \u001b[0;34m=\u001b[0m \u001b[0mself\u001b[0m\u001b[0;34m.\u001b[0m\u001b[0m_call\u001b[0m\u001b[0;34m(\u001b[0m\u001b[0;34m*\u001b[0m\u001b[0margs\u001b[0m\u001b[0;34m,\u001b[0m \u001b[0;34m**\u001b[0m\u001b[0mkwds\u001b[0m\u001b[0;34m)\u001b[0m\u001b[0;34m\u001b[0m\u001b[0;34m\u001b[0m\u001b[0m\n\u001b[0m\u001b[1;32m    890\u001b[0m \u001b[0;34m\u001b[0m\u001b[0m\n\u001b[1;32m    891\u001b[0m       \u001b[0mnew_tracing_count\u001b[0m \u001b[0;34m=\u001b[0m \u001b[0mself\u001b[0m\u001b[0;34m.\u001b[0m\u001b[0mexperimental_get_tracing_count\u001b[0m\u001b[0;34m(\u001b[0m\u001b[0;34m)\u001b[0m\u001b[0;34m\u001b[0m\u001b[0;34m\u001b[0m\u001b[0m\n",
      "\u001b[0;32m/usr/local/lib/python3.9/site-packages/tensorflow/python/eager/def_function.py\u001b[0m in \u001b[0;36m_call\u001b[0;34m(self, *args, **kwds)\u001b[0m\n\u001b[1;32m    915\u001b[0m       \u001b[0;31m# In this case we have created variables on the first call, so we run the\u001b[0m\u001b[0;34m\u001b[0m\u001b[0;34m\u001b[0m\u001b[0;34m\u001b[0m\u001b[0m\n\u001b[1;32m    916\u001b[0m       \u001b[0;31m# defunned version which is guaranteed to never create variables.\u001b[0m\u001b[0;34m\u001b[0m\u001b[0;34m\u001b[0m\u001b[0;34m\u001b[0m\u001b[0m\n\u001b[0;32m--> 917\u001b[0;31m       \u001b[0;32mreturn\u001b[0m \u001b[0mself\u001b[0m\u001b[0;34m.\u001b[0m\u001b[0m_stateless_fn\u001b[0m\u001b[0;34m(\u001b[0m\u001b[0;34m*\u001b[0m\u001b[0margs\u001b[0m\u001b[0;34m,\u001b[0m \u001b[0;34m**\u001b[0m\u001b[0mkwds\u001b[0m\u001b[0;34m)\u001b[0m  \u001b[0;31m# pylint: disable=not-callable\u001b[0m\u001b[0;34m\u001b[0m\u001b[0;34m\u001b[0m\u001b[0m\n\u001b[0m\u001b[1;32m    918\u001b[0m     \u001b[0;32melif\u001b[0m \u001b[0mself\u001b[0m\u001b[0;34m.\u001b[0m\u001b[0m_stateful_fn\u001b[0m \u001b[0;32mis\u001b[0m \u001b[0;32mnot\u001b[0m \u001b[0;32mNone\u001b[0m\u001b[0;34m:\u001b[0m\u001b[0;34m\u001b[0m\u001b[0;34m\u001b[0m\u001b[0m\n\u001b[1;32m    919\u001b[0m       \u001b[0;31m# Release the lock early so that multiple threads can perform the call\u001b[0m\u001b[0;34m\u001b[0m\u001b[0;34m\u001b[0m\u001b[0;34m\u001b[0m\u001b[0m\n",
      "\u001b[0;32m/usr/local/lib/python3.9/site-packages/tensorflow/python/eager/function.py\u001b[0m in \u001b[0;36m__call__\u001b[0;34m(self, *args, **kwargs)\u001b[0m\n\u001b[1;32m   3021\u001b[0m       (graph_function,\n\u001b[1;32m   3022\u001b[0m        filtered_flat_args) = self._maybe_define_function(args, kwargs)\n\u001b[0;32m-> 3023\u001b[0;31m     return graph_function._call_flat(\n\u001b[0m\u001b[1;32m   3024\u001b[0m         filtered_flat_args, captured_inputs=graph_function.captured_inputs)  # pylint: disable=protected-access\n\u001b[1;32m   3025\u001b[0m \u001b[0;34m\u001b[0m\u001b[0m\n",
      "\u001b[0;32m/usr/local/lib/python3.9/site-packages/tensorflow/python/eager/function.py\u001b[0m in \u001b[0;36m_call_flat\u001b[0;34m(self, args, captured_inputs, cancellation_manager)\u001b[0m\n\u001b[1;32m   1958\u001b[0m         and executing_eagerly):\n\u001b[1;32m   1959\u001b[0m       \u001b[0;31m# No tape is watching; skip to running the function.\u001b[0m\u001b[0;34m\u001b[0m\u001b[0;34m\u001b[0m\u001b[0;34m\u001b[0m\u001b[0m\n\u001b[0;32m-> 1960\u001b[0;31m       return self._build_call_outputs(self._inference_function.call(\n\u001b[0m\u001b[1;32m   1961\u001b[0m           ctx, args, cancellation_manager=cancellation_manager))\n\u001b[1;32m   1962\u001b[0m     forward_backward = self._select_forward_and_backward_functions(\n",
      "\u001b[0;32m/usr/local/lib/python3.9/site-packages/tensorflow/python/eager/function.py\u001b[0m in \u001b[0;36mcall\u001b[0;34m(self, ctx, args, cancellation_manager)\u001b[0m\n\u001b[1;32m    589\u001b[0m       \u001b[0;32mwith\u001b[0m \u001b[0m_InterpolateFunctionError\u001b[0m\u001b[0;34m(\u001b[0m\u001b[0mself\u001b[0m\u001b[0;34m)\u001b[0m\u001b[0;34m:\u001b[0m\u001b[0;34m\u001b[0m\u001b[0;34m\u001b[0m\u001b[0m\n\u001b[1;32m    590\u001b[0m         \u001b[0;32mif\u001b[0m \u001b[0mcancellation_manager\u001b[0m \u001b[0;32mis\u001b[0m \u001b[0;32mNone\u001b[0m\u001b[0;34m:\u001b[0m\u001b[0;34m\u001b[0m\u001b[0;34m\u001b[0m\u001b[0m\n\u001b[0;32m--> 591\u001b[0;31m           outputs = execute.execute(\n\u001b[0m\u001b[1;32m    592\u001b[0m               \u001b[0mstr\u001b[0m\u001b[0;34m(\u001b[0m\u001b[0mself\u001b[0m\u001b[0;34m.\u001b[0m\u001b[0msignature\u001b[0m\u001b[0;34m.\u001b[0m\u001b[0mname\u001b[0m\u001b[0;34m)\u001b[0m\u001b[0;34m,\u001b[0m\u001b[0;34m\u001b[0m\u001b[0;34m\u001b[0m\u001b[0m\n\u001b[1;32m    593\u001b[0m               \u001b[0mnum_outputs\u001b[0m\u001b[0;34m=\u001b[0m\u001b[0mself\u001b[0m\u001b[0;34m.\u001b[0m\u001b[0m_num_outputs\u001b[0m\u001b[0;34m,\u001b[0m\u001b[0;34m\u001b[0m\u001b[0;34m\u001b[0m\u001b[0m\n",
      "\u001b[0;32m/usr/local/lib/python3.9/site-packages/tensorflow/python/eager/execute.py\u001b[0m in \u001b[0;36mquick_execute\u001b[0;34m(op_name, num_outputs, inputs, attrs, ctx, name)\u001b[0m\n\u001b[1;32m     57\u001b[0m   \u001b[0;32mtry\u001b[0m\u001b[0;34m:\u001b[0m\u001b[0;34m\u001b[0m\u001b[0;34m\u001b[0m\u001b[0m\n\u001b[1;32m     58\u001b[0m     \u001b[0mctx\u001b[0m\u001b[0;34m.\u001b[0m\u001b[0mensure_initialized\u001b[0m\u001b[0;34m(\u001b[0m\u001b[0;34m)\u001b[0m\u001b[0;34m\u001b[0m\u001b[0;34m\u001b[0m\u001b[0m\n\u001b[0;32m---> 59\u001b[0;31m     tensors = pywrap_tfe.TFE_Py_Execute(ctx._handle, device_name, op_name,\n\u001b[0m\u001b[1;32m     60\u001b[0m                                         inputs, attrs, num_outputs)\n\u001b[1;32m     61\u001b[0m   \u001b[0;32mexcept\u001b[0m \u001b[0mcore\u001b[0m\u001b[0;34m.\u001b[0m\u001b[0m_NotOkStatusException\u001b[0m \u001b[0;32mas\u001b[0m \u001b[0me\u001b[0m\u001b[0;34m:\u001b[0m\u001b[0;34m\u001b[0m\u001b[0;34m\u001b[0m\u001b[0m\n",
      "\u001b[0;31mKeyboardInterrupt\u001b[0m: "
     ]
    }
   ],
   "source": [
    "from keras import Model, Sequential\n",
    "from keras.layers import Flatten, BatchNormalization, Reshape, Dropout, Lambda, LSTM, Input, Conv2D, Conv1D, concatenate\n",
    "from tensorflow.keras.utils import to_categorical\n",
    "from sklearn.preprocessing import OneHotEncoder\n",
    "from src.algos.logsigrnn.sigutils import *\n",
    "from src.algos.logsigrnn.dyadic_sigutils import *\n",
    "import tensorflow as tf\n",
    "from base_notebook.pose_data_tools.graph import Graph\n",
    "from keras.losses import CategoricalCrossentropy\n",
    "from keras.optimizers import Adam\n",
    "\n",
    "\n",
    "graph = Graph()\n",
    "mat = graph.get_adjacency_matrix().astype(np.float32)\n",
    "\n",
    "class GraphAttention(Layer):\n",
    "    \n",
    "    def __init__(self, n_hidden_units ,**kwargs):\n",
    "        super(GraphAttention, self).__init__(**kwargs)\n",
    "        self.n_hidden_units = n_hidden_units\n",
    "    \n",
    "    def build(self, input_shape):\n",
    "        self.kernel = self.add_weight('kernel', (input_shape[3], input_shape[4], self.n_hidden_units), trainable=True)\n",
    "        self.attention_mask = self.add_weight('attention_mask', mat[0].shape, trainable=True)\n",
    "        \n",
    "    @tf.function\n",
    "    def call(self, inputs):\n",
    "        f0 = tf.einsum('ijklm,lmn->ikln', inputs, self.kernel)\n",
    "        att = tf.einsum('ij,ij->ij', mat[0]+mat[1]+mat[2], self.attention_mask)\n",
    "        att = tf.nn.softmax(att)\n",
    "        return tf.einsum('ml,ijklo,lon->ikn', att, inputs, self.kernel)\n",
    "\n",
    "\n",
    "X = data[:, :, :, :, :]\n",
    "y = labels['label']\n",
    "\n",
    "N_SEGMENTS = 4\n",
    "N_HIDDEN_UNITS = 20\n",
    "\n",
    "logsiglen = iisignature.logsiglength(N_HIDDEN_UNITS, 2)\n",
    "\n",
    "input_layer = Input(shape=X.shape[1:])\n",
    "gcn_layer = GraphAttention(N_HIDDEN_UNITS)(input_layer)\n",
    "\n",
    "mid_output = Lambda(SP, arguments=dict(no_of_segments=N_SEGMENTS), output_shape=(N_SEGMENTS, N_HIDDEN_UNITS))(gcn_layer)\n",
    "hidden_layer = Lambda(CLF, arguments=dict(number_of_segment=N_SEGMENTS, deg_of_logsig=2, logsiglen=logsiglen), output_shape=(N_SEGMENTS, logsiglen))(gcn_layer)\n",
    "hidden_layer = Reshape((N_SEGMENTS, logsiglen))(hidden_layer)\n",
    "BN_layer = BatchNormalization()(hidden_layer)\n",
    "\n",
    "mid_input = concatenate([mid_output, BN_layer])\n",
    "lstm_layer = LSTM(units=64, return_sequences=True)(mid_input)\n",
    "drop_layer = Dropout(0.8)(lstm_layer)\n",
    "upper_mid_input = Flatten()(drop_layer)\n",
    "output_layer = Dense(155, activation='softmax')(upper_mid_input)\n",
    "\n",
    "model = Model(inputs=input_layer, outputs=output_layer)\n",
    "model.compile(loss='categorical_crossentropy', optimizer='adam', metrics=['accuracy'])\n",
    "model.fit(X, to_categorical(y), epochs=20, verbose=2, validation_split=0.15)\n"
   ]
  },
  {
   "cell_type": "code",
   "execution_count": 91,
   "metadata": {},
   "outputs": [],
   "source": [
    "def visualize(data):\n",
    "\n",
    "    N, C, T, V, M = data.shape\n",
    "\n",
    "    x0, x1 = np.min(data[:, AXES[0], :, :, :]), np.max(data[:, AXES[0], :, :, :])\n",
    "    y0, y1 = np.min(data[:, AXES[1], :, :, :]), np.max(data[:, AXES[1], :, :, :])\n",
    "\n",
    "    ratio = (y1 - y0) / (x1 - x0)\n",
    "\n",
    "    size = 3\n",
    "    \n",
    "    xh = size\n",
    "    yh = ratio * size\n",
    "\n",
    "    graph = Graph()\n",
    "    fig, ax = plt.subplots(figsize=(xh, yh))\n",
    "\n",
    "    plt.xlim((x0, x1))\n",
    "    plt.ylim((y0, y1))\n",
    "\n",
    "    edge = graph.inward\n",
    "\n",
    "    p_type = ['b-', 'g-', 'g-', 'c-', 'm-', 'y-', 'k-', 'k-', 'k-', 'k-']\n",
    "    pose = []\n",
    "\n",
    "    for m in range(M):\n",
    "        a = []\n",
    "        for i in range(len(edge)):\n",
    "            a.append(ax.plot(np.zeros(2), np.zeros(2), p_type[m])[0])\n",
    "        pose.append(a)\n",
    "\n",
    "    def animate(t):\n",
    "\n",
    "        for m in range(M):\n",
    "\n",
    "            for i, (v1, v2) in enumerate(edge):\n",
    "                x1 = data[0, AXES, t, v1, m]\n",
    "                x2 = data[0, AXES, t, v2, m]\n",
    "                if (x1.sum() != 0 and x2.sum() != 0) or v1 == 1 or v2 == 1:\n",
    "                    pose[m][i].set_xdata(data[0, AXES[0], t, [v1, v2], m])\n",
    "                    pose[m][i].set_ydata(data[0, AXES[1], t, [v1, v2], m])\n",
    "\n",
    "        return np.array(pose).flatten()\n",
    "\n",
    "    anim = animation.FuncAnimation(fig, animate, frames=T, interval=20, blit=True)\n",
    "    return HTML(anim.to_html5_video())"
   ]
  }
 ],
 "metadata": {
  "kernelspec": {
   "display_name": "Python 3",
   "language": "python",
   "name": "python3"
  },
  "language_info": {
   "codemirror_mode": {
    "name": "ipython",
    "version": 3
   },
   "file_extension": ".py",
   "mimetype": "text/x-python",
   "name": "python",
   "nbconvert_exporter": "python",
   "pygments_lexer": "ipython3",
   "version": "3.9.5"
  }
 },
 "nbformat": 4,
 "nbformat_minor": 4
}
