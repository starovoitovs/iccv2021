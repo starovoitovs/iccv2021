{
 "cells": [
  {
   "cell_type": "code",
   "execution_count": 4,
   "metadata": {},
   "outputs": [],
   "source": [
    "import numpy as np\n",
    "from base_notebook.pose_data_tools.graph import Graph\n",
    "from base_notebook.pose_data_tools.generate_data import read_xyz\n",
    "from src.preprocessing.pre_normaliser import preNormaliser\n",
    "import matplotlib.pyplot as plt\n",
    "from matplotlib import animation, rc\n",
    "from IPython.display import HTML\n",
    "import os\n",
    "import pandas as pd\n",
    "import pickle"
   ]
  },
  {
   "cell_type": "code",
   "execution_count": 5,
   "metadata": {},
   "outputs": [],
   "source": [
    "PATH_LABELS = r\"_input/train_label.pkl\"\n",
    "PATH_RAW_TXT = r\"_input/train/\"\n",
    "\n",
    "# two axes to plot choose from (0, 1, 2)\n",
    "AXES = 0, 2\n",
    "\n",
    "# class label (0-154) and samples number (~0-400)\n",
    "LABEL, SAMPLE = 10, 5"
   ]
  },
  {
   "cell_type": "code",
   "execution_count": 6,
   "metadata": {},
   "outputs": [],
   "source": [
    "with open(PATH_LABELS, 'rb') as f:\n",
    "    labels = pickle.load(f)\n",
    "    df = pd.DataFrame(np.array([[x.split('/')[-1] for x in labels[0]], labels[1]]).T, columns=['filename', 'label'])\n",
    "    df['label'] = df['label'].astype(np.int)\n",
    "    \n",
    "permitted = [LABEL]\n",
    "idx = df.loc[df['label'].isin(permitted)].index\n",
    "fname = os.path.join(PATH_RAW_TXT, df.loc[idx, 'filename'].iloc[SAMPLE])"
   ]
  },
  {
   "cell_type": "code",
   "execution_count": 7,
   "metadata": {},
   "outputs": [],
   "source": [
    "# uncomment to specify the filename explicitly\n",
    "fname = r\"../iccv2021/_input/train/P117S05G10B30H40UC021000LC021000A063R0_10031037.txt\""
   ]
  },
  {
   "cell_type": "code",
   "execution_count": null,
   "metadata": {},
   "outputs": [],
   "source": [
    "data = read_xyz(fname, 2, 17)\n",
    "data = data.reshape(1, *data.shape)\n",
    "\n",
    "# if second person is missing\n",
    "if np.all(data[0, :, :, :, 1] == 0):\n",
    "    data = data[:, :, :, :, :1]\n",
    "    \n",
    "# data = pre_normalization(data)[0]\n",
    "# visualize(data)"
   ]
  },
  {
   "cell_type": "code",
   "execution_count": null,
   "metadata": {},
   "outputs": [],
   "source": [
    "encoder, decoder, vae = build_vae_model()\n",
    "X = data.transpose(0, 2, 1, 3, 4).reshape((1, 77, -1))\n",
    "vae(X)"
   ]
  },
  {
   "cell_type": "code",
   "execution_count": 150,
   "metadata": {},
   "outputs": [],
   "source": [
    "def visualize(data):\n",
    "\n",
    "    N, C, T, V, M = data.shape\n",
    "\n",
    "    x0, x1 = np.min(data[:, AXES[0], :, :, :]), np.max(data[:, AXES[0], :, :, :])\n",
    "    y0, y1 = np.min(data[:, AXES[1], :, :, :]), np.max(data[:, AXES[1], :, :, :])\n",
    "\n",
    "    ratio = (y1 - y0) / (x1 - x0)\n",
    "\n",
    "    size = 3\n",
    "    \n",
    "    xh = size\n",
    "    yh = ratio * size\n",
    "\n",
    "    graph = Graph()\n",
    "    fig, ax = plt.subplots(figsize=(xh, yh))\n",
    "\n",
    "    plt.xlim((x0, x1))\n",
    "    plt.ylim((y0, y1))\n",
    "\n",
    "    edge = graph.inward\n",
    "\n",
    "    p_type = ['b-', 'g-', 'g-', 'c-', 'm-', 'y-', 'k-', 'k-', 'k-', 'k-']\n",
    "    pose = []\n",
    "\n",
    "    for m in range(M):\n",
    "        a = []\n",
    "        for i in range(len(edge)):\n",
    "            a.append(ax.plot(np.zeros(2), np.zeros(2), p_type[m])[0])\n",
    "        pose.append(a)\n",
    "\n",
    "    def animate(t):\n",
    "\n",
    "        for m in range(M):\n",
    "\n",
    "            for i, (v1, v2) in enumerate(edge):\n",
    "                x1 = data[0, AXES, t, v1, m]\n",
    "                x2 = data[0, AXES, t, v2, m]\n",
    "                if (x1.sum() != 0 and x2.sum() != 0) or v1 == 1 or v2 == 1:\n",
    "                    pose[m][i].set_xdata(data[0, AXES[0], t, [v1, v2], m])\n",
    "                    pose[m][i].set_ydata(data[0, AXES[1], t, [v1, v2], m])\n",
    "\n",
    "        return np.array(pose).flatten()\n",
    "\n",
    "    anim = animation.FuncAnimation(fig, animate, frames=T, interval=20, blit=True)\n",
    "    return HTML(anim.to_html5_video())"
   ]
  }
 ],
 "metadata": {
  "kernelspec": {
   "display_name": "Python 3",
   "language": "python",
   "name": "python3"
  },
  "language_info": {
   "codemirror_mode": {
    "name": "ipython",
    "version": 3
   },
   "file_extension": ".py",
   "mimetype": "text/x-python",
   "name": "python",
   "nbconvert_exporter": "python",
   "pygments_lexer": "ipython3",
   "version": "3.9.5"
  }
 },
 "nbformat": 4,
 "nbformat_minor": 4
}
